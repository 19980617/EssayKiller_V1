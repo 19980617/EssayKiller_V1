﻿{
  "cells": [
    {
      "cell_type": "markdown",
      "metadata": {},
      "source": [
        "[![GitHub stars](https://img.shields.io/github/stars/EssayKillerBrain/EssayKiller?style=social)](https://github.com/imcaspar/gpt2-ml)\n",
        "[![GitHub](https://img.shields.io/github/license/EssayKillerBrain/EssayKiller)](https://github.com/imcaspar/gpt2-ml)\n",
        "[![Twitter URL](https://img.shields.io/twitter/url?style=social&url=https%3A%2F%2Fgithub.com%2Fimcaspar%2Fgpt2-ml)](https://twitter.com/intent/tweet?text=Wow:&url=https://github.com/imcaspar/gpt2-ml)\n",
        "### 高考作文生成指南:\n",
        "\n",
        "* 点击代码框左上角的▶️\n",
        "* 等待对应代码文件、模型文件下载\n",
        "![alt text](https://)\n",
        "* 输入参数，代表长度\n",
        "* 输入作文题目（摘要模块没有部署，请自己提炼作文题中的主旨句）\n",
        "\n",
        "之后就会生成对应文章，效果如下:"
      ]
    },
    {
      "cell_type": "code",
      "execution_count": null,
      "metadata": {},
      "outputs": [],
      "source": [
        "#@title 参数与开源框架预加载\n",
        "!pip install pandas==0.24.2\n",
        "!pip install regex==2019.4.14\n",
        "!pip install h5py==2.10.0\n",
        "!pip install numpy==1.18.4\n",
        "!pip install tensorboard==1.15.0\n",
        "!pip install tensorflow-gpu==1.15.2\n",
        "!pip install tensorflow-estimator==1.15.1\n",
        "!pip install tqdm==4.31.1\n",
        "!pip install requests==2.22.0\n",
        "!pip install ujson==2.0.3\n",
        "#@title #Prerequisites"
      ]
    },
    {
      "cell_type": "code",
      "execution_count": null,
      "metadata": {},
      "outputs": [],
      "source": [
        "#@title #Prerequisites\n",
        "%cd /home\n",
        "!git clone -b master https://github.com/EssayKillerBrain/EssayKiller.git \n",
        "\n",
        "#%tensorflow_version 1.5.2-GPU/TPU\n",
        "%cd /home/EssayKiller/AutoWritter/finetune/\n",
        "!mkdir -p /home/EssayKiller/AutoWritter/finetune/trained_models\n",
        "%cd /home/EssayKiller/AutoWritter/finetune/\n",
        "!perl /home/EssayKiller/AutoWritter/scripts/gdown.pl https://drive.google.com/open?id=1ujWYTOvRLGJX0raH-f-lPZa3-RN58ZQx trained_models/model.ckpt-280000.data-00000-of-00001\n",
        "!wget -q --show-progress https://github.com/EssayKillerBrain/EssayKiller/releases/download/v1.0/model.ckpt-280000.index -P /home/EssayKiller/AutoWritter/finetune/models/mega\n",
        "!wget -q --show-progress https://github.com/EssayKillerBrain/EssayKiller/releases/download/v1.0/model.ckpt-280000.meta -P /home/EssayKiller/AutoWritter/finetune/models/mega\n",
        "\n",
        "!echo 'Download finished.'\n",
        "# If gdown.pl failed, please uncomment following code & exec\n",
        "# !python3 scripts/down_gdrive_file.py -file_id='1mT_qCQg4AWnAXTwKfsyyRWCRpgPrBJS3' -file_path='models/mega/model.ckpt-220000.data-00000-of-00001'"
      ]
    },
    {
      "cell_type": "code",
      "execution_count": null,
      "metadata": {},
      "outputs": [],
      "source": [
        "#!cat /usr/local/lib/python3.6/dist-packages/tensorflow_core/python/tpu/tpu_feed.py\n",
        "#@title #Inference\n",
        "#默认会生成3篇800字的高考作文，可自己调节长度，最长为1024个汉字。\n",
        "#一般来说越短的文章AI表现越好。篇数最多为100。\n",
        "\n",
        "min_len = 800 #@param {type:"number", min:5, max:1024, step:1}\n",
        "sample_num = 3#@param {type:"number", min:1, max:50, step:1}\n",
        "%mv /home/EssayKiller/AutoWritter/finetune/models/mega/* /home/EssayKiller/AutoWritter/finetune/trained_models/\n",
        "%cd /home/EssayKiller/AutoWritter/\n",
        "!PYTHONPATH=$(pwd) python scripts/demo.py -ckpt_fn finetune/trained_models/model.ckpt-280000 -min_len $min_len -samples $sample_num"
      ]
    }
  ],
  "metadata": {
    "colab": {
      "name": "17亿参数-高考作文生成AI | 1.7B GPT2 Pretrained Essay Killer Brain",
      "provenance": [],
      "collapsed_sections": []
    },
    "kernelspec": {
      "name": "python3",
      "display_name": "Python 3"
    },
    "accelerator": "GPU"
  },
  "nbformat": 4,
  "nbformat_minor": 0
}